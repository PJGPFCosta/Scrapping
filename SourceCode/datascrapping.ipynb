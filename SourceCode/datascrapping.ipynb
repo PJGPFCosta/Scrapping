{
 "cells": [
  {
   "cell_type": "markdown",
   "metadata": {},
   "source": [
    "# Data Scrapping with Python\n",
    "\n",
    "- HTML Structure: Understand the HTML structure of the website you're scraping. Use browser developer tools to inspect the elements you need to extract data from. Identify unique identifiers such as class names, IDs, or XPath expressions that can help you locate and extract the relevant information.\n",
    "- Robust Scraping Tools: Python offers several libraries for web scraping, including BeautifulSoup, Scrapy, and Selenium. Choose the one that best fits your needs based on the complexity of the website and the level of interactivity required for scraping (e.g., dynamic content loaded via JavaScript).\n",
    "- Handling Dynamic Content: Some websites use JavaScript to load content dynamically, making it challenging to scrape using traditional methods. In such cases, consider using headless browsers like Selenium or libraries that can parse JavaScript-rendered pages like Splash.\n",
    "- Data Extraction: Once you've identified the elements containing the data you need, use the scraping library to extract the information. This may involve parsing HTML, handling nested structures, and cleaning the extracted data to ensure consistency and accuracy.\n",
    "- Monitoring and Maintenance: Regularly monitor your scraping process for errors, changes in website structure, or potential violations of terms of service. Update your scraping code as needed to adapt to any changes and maintain compliance with the website's policies."
   ]
  },
  {
   "cell_type": "code",
   "execution_count": 25,
   "metadata": {},
   "outputs": [
    {
     "name": "stdout",
     "output_type": "stream",
     "text": [
      "og:title:  Maia Centro\n",
      "og:description:  Situada na Maia, a 20 km da P&oacute;voa de Varzim, a Maia Centro disponibiliza um jardim e acesso Wi-Fi gratuito.\n",
      "Est&atilde;o dispon&iacute;veis op&ccedil;&otilde;es de pequeno-almo&ccedil;o continentais e &agrave; carta, todas as manh&atilde;s no apartamento.\n",
      "Disp&otilde;e ainda de um terra&ccedil;o onde se encontram todas as comodidades para churrascos no local.\n",
      "&Eacute; poss&iacute;vel fazer passeios de bicicleta e caminhadas perto do alojamento.\n",
      "O Porto fica a 10 km da Maia Centro, enquanto Braga est&aacute; a 39 km da propriedade. O aeroporto mais pr&oacute;ximo &eacute; o Aeroporto Francisco S&aacute; Carneiro, a 4 km do apartamento, que organiza um servi&ccedil;o de transfer do aeroporto, por um custo adicional.\n",
      "og:image_links:  ['https://visitmaia.pt/assets/images/attractions/64c0e2e4d6864.png', 'https://visitmaia.pt/assets/images/attractions/64c0e2f830619.png', 'https://visitmaia.pt/assets/images/attractions/1677850811image2.jpeg', 'https://visitmaia.pt/assets/images/attractions/1677850811image3.jpg', 'https://visitmaia.pt/assets/images/attractions/64c0e314cd13a.png', 'https://visitmaia.pt/assets/images/attractions/1677850811image5.jpg', 'https://visitmaia.pt/assets/images/attractions/1677850811image6.jpg', 'https://visitmaia.pt/assets/images/attractions/1677850811image7.jpg', 'https://visitmaia.pt/assets/images/attractions/1677850811image8.jpg']\n"
     ]
    }
   ],
   "source": [
    "import requests\n",
    "from bs4 import BeautifulSoup\n",
    "\n",
    "# URL of the webpage to scrape\n",
    "url = \"https://visitmaia.pt/produtos-turisticos/maia-centro\"\n",
    "headers = {\n",
    "    \"User-Agent\": \"Mozilla/5.0 (Windows NT 10.0; Win64; x64) AppleWebKit/537.36 (KHTML, like Gecko) Chrome/58.0.3029.110 Safari/537.36\"\n",
    "}\n",
    "\n",
    "# Send a GET request to the URL\n",
    "response = requests.get(url, headers=headers)\n",
    "\n",
    "# Check if the request was successful (status code 200)\n",
    "if response.status_code == 200:\n",
    "    # Parse the HTML content of the webpage\n",
    "    soup = BeautifulSoup(response.content, \"html.parser\")\n",
    "\n",
    "    # Find meta tags with property=\"og:title\" and property=\"og:description\"\n",
    "    og_title_meta = soup.find(\"meta\", property=\"og:title\")\n",
    "    og_description_meta = soup.find(\"meta\", property=\"og:description\")\n",
    "    \n",
    "    # Find all meta tags with property=\"og:image\"\n",
    "    og_images_meta = soup.find_all(\"meta\", property=\"og:image\")\n",
    "\n",
    "    # Extract content from meta tags\n",
    "    og_title = og_title_meta[\"content\"] if og_title_meta else None\n",
    "    og_description = og_description_meta[\"content\"] if og_description_meta else None\n",
    "    \n",
    "    # Extract URLs from all meta tags with property=\"og:image\"\n",
    "    og_images = [img[\"content\"] for img in og_images_meta] if og_images_meta else None\n",
    "\n",
    "    # Find all img tags with class=\"u-back-image u-expanded\" and src starting with \"https://visitmaia.pt/assets/images/attractions/\"\n",
    "    img_tags = soup.find_all(\"img\", class_=\"u-back-image u-expanded\", src=lambda x: x.startswith(\"https://visitmaia.pt/assets/images/attractions/\"))\n",
    "    \n",
    "    # Extract the src attribute value from each img tag\n",
    "    image_links = [img[\"src\"] for img in img_tags]\n",
    "\n",
    "    image_links = og_images + image_links\n",
    "\n",
    "    print(\"og:title: \", og_title)\n",
    "    print(\"og:description: \", og_description)\n",
    "    print(\"og:image_links: \", image_links)\n",
    "\n",
    "else:\n",
    "    print(\"Failed to retrieve webpage:\", response.status_code)\n"
   ]
  },
  {
   "cell_type": "code",
   "execution_count": 30,
   "metadata": {},
   "outputs": [],
   "source": [
    "import pandas as pd\n",
    "from datetime import datetime\n",
    "\n",
    "# Create a timestamp\n",
    "timestamp = datetime.now()\n",
    "\n",
    "# Create a dictionary to store the structured data\n",
    "structured_data = {\n",
    "    \"url\": url,\n",
    "    \"title\": og_title,\n",
    "    \"description\": og_description,\n",
    "    \"image_links\": image_links,\n",
    "    \"timestamp\": timestamp\n",
    "}\n",
    "\n",
    "# Create a DataFrame from the dictionary\n",
    "df = pd.DataFrame([structured_data])\n"
   ]
  },
  {
   "cell_type": "code",
   "execution_count": 31,
   "metadata": {},
   "outputs": [
    {
     "data": {
      "text/html": [
       "<div>\n",
       "<style scoped>\n",
       "    .dataframe tbody tr th:only-of-type {\n",
       "        vertical-align: middle;\n",
       "    }\n",
       "\n",
       "    .dataframe tbody tr th {\n",
       "        vertical-align: top;\n",
       "    }\n",
       "\n",
       "    .dataframe thead th {\n",
       "        text-align: right;\n",
       "    }\n",
       "</style>\n",
       "<table border=\"1\" class=\"dataframe\">\n",
       "  <thead>\n",
       "    <tr style=\"text-align: right;\">\n",
       "      <th></th>\n",
       "      <th>url</th>\n",
       "      <th>title</th>\n",
       "      <th>description</th>\n",
       "      <th>image_links</th>\n",
       "      <th>timestamp</th>\n",
       "    </tr>\n",
       "  </thead>\n",
       "  <tbody>\n",
       "    <tr>\n",
       "      <th>0</th>\n",
       "      <td>https://visitmaia.pt/produtos-turisticos/maia-...</td>\n",
       "      <td>Maia Centro</td>\n",
       "      <td>Situada na Maia, a 20 km da P&amp;oacute;voa de Va...</td>\n",
       "      <td>[https://visitmaia.pt/assets/images/attraction...</td>\n",
       "      <td>2024-02-06 11:56:35.630940</td>\n",
       "    </tr>\n",
       "  </tbody>\n",
       "</table>\n",
       "</div>"
      ],
      "text/plain": [
       "                                                 url        title  \\\n",
       "0  https://visitmaia.pt/produtos-turisticos/maia-...  Maia Centro   \n",
       "\n",
       "                                         description  \\\n",
       "0  Situada na Maia, a 20 km da P&oacute;voa de Va...   \n",
       "\n",
       "                                         image_links  \\\n",
       "0  [https://visitmaia.pt/assets/images/attraction...   \n",
       "\n",
       "                   timestamp  \n",
       "0 2024-02-06 11:56:35.630940  "
      ]
     },
     "execution_count": 31,
     "metadata": {},
     "output_type": "execute_result"
    }
   ],
   "source": [
    "df"
   ]
  },
  {
   "cell_type": "code",
   "execution_count": 33,
   "metadata": {},
   "outputs": [
    {
     "ename": "OSError",
     "evalue": "[E050] Can't find model 'en_core_web_sm'. It doesn't seem to be a Python package or a valid path to a data directory.",
     "output_type": "error",
     "traceback": [
      "\u001b[1;31m---------------------------------------------------------------------------\u001b[0m",
      "\u001b[1;31mOSError\u001b[0m                                   Traceback (most recent call last)",
      "Cell \u001b[1;32mIn[33], line 4\u001b[0m\n\u001b[0;32m      1\u001b[0m \u001b[38;5;28;01mimport\u001b[39;00m \u001b[38;5;21;01mspacy\u001b[39;00m\n\u001b[0;32m      3\u001b[0m \u001b[38;5;66;03m# Load the pre-trained English NER model from spaCy\u001b[39;00m\n\u001b[1;32m----> 4\u001b[0m nlp \u001b[38;5;241m=\u001b[39m \u001b[43mspacy\u001b[49m\u001b[38;5;241;43m.\u001b[39;49m\u001b[43mload\u001b[49m\u001b[43m(\u001b[49m\u001b[38;5;124;43m\"\u001b[39;49m\u001b[38;5;124;43men_core_web_sm\u001b[39;49m\u001b[38;5;124;43m\"\u001b[39;49m\u001b[43m)\u001b[49m\n\u001b[0;32m      6\u001b[0m \u001b[38;5;66;03m# Example og:description\u001b[39;00m\n\u001b[0;32m      7\u001b[0m og_description \u001b[38;5;241m=\u001b[39m \u001b[38;5;124m'\u001b[39m\u001b[38;5;124mSituada na Maia, a 20 km da Póvoa de Varzim, a Maia Centro disponibiliza um jardim e acesso Wi-Fi gratuito. Estão disponíveis opções de pequeno-almoço continentais e à carta, todas as manhãs no apartamento. Dispõe ainda de um terraço onde se encontram todas as comodidades para churrascos no local. É possível fazer passeios de bicicleta e caminhadas perto do alojamento. O Porto fica a 10 km da Maia Centro, enquanto Braga está a 39 km da propriedade. O aeroporto mais próximo é o Aeroporto Francisco Sá Carneiro, a 4 km do apartamento, que organiza um serviço de transfer do aeroporto, por um custo adicional.\u001b[39m\u001b[38;5;124m'\u001b[39m\n",
      "File \u001b[1;32m~\\AppData\\Local\\Packages\\PythonSoftwareFoundation.Python.3.10_qbz5n2kfra8p0\\LocalCache\\local-packages\\Python310\\site-packages\\spacy\\__init__.py:51\u001b[0m, in \u001b[0;36mload\u001b[1;34m(name, vocab, disable, enable, exclude, config)\u001b[0m\n\u001b[0;32m     27\u001b[0m \u001b[38;5;28;01mdef\u001b[39;00m \u001b[38;5;21mload\u001b[39m(\n\u001b[0;32m     28\u001b[0m     name: Union[\u001b[38;5;28mstr\u001b[39m, Path],\n\u001b[0;32m     29\u001b[0m     \u001b[38;5;241m*\u001b[39m,\n\u001b[1;32m   (...)\u001b[0m\n\u001b[0;32m     34\u001b[0m     config: Union[Dict[\u001b[38;5;28mstr\u001b[39m, Any], Config] \u001b[38;5;241m=\u001b[39m util\u001b[38;5;241m.\u001b[39mSimpleFrozenDict(),\n\u001b[0;32m     35\u001b[0m ) \u001b[38;5;241m-\u001b[39m\u001b[38;5;241m>\u001b[39m Language:\n\u001b[0;32m     36\u001b[0m \u001b[38;5;250m    \u001b[39m\u001b[38;5;124;03m\"\"\"Load a spaCy model from an installed package or a local path.\u001b[39;00m\n\u001b[0;32m     37\u001b[0m \n\u001b[0;32m     38\u001b[0m \u001b[38;5;124;03m    name (str): Package name or model path.\u001b[39;00m\n\u001b[1;32m   (...)\u001b[0m\n\u001b[0;32m     49\u001b[0m \u001b[38;5;124;03m    RETURNS (Language): The loaded nlp object.\u001b[39;00m\n\u001b[0;32m     50\u001b[0m \u001b[38;5;124;03m    \"\"\"\u001b[39;00m\n\u001b[1;32m---> 51\u001b[0m     \u001b[38;5;28;01mreturn\u001b[39;00m \u001b[43mutil\u001b[49m\u001b[38;5;241;43m.\u001b[39;49m\u001b[43mload_model\u001b[49m\u001b[43m(\u001b[49m\n\u001b[0;32m     52\u001b[0m \u001b[43m        \u001b[49m\u001b[43mname\u001b[49m\u001b[43m,\u001b[49m\n\u001b[0;32m     53\u001b[0m \u001b[43m        \u001b[49m\u001b[43mvocab\u001b[49m\u001b[38;5;241;43m=\u001b[39;49m\u001b[43mvocab\u001b[49m\u001b[43m,\u001b[49m\n\u001b[0;32m     54\u001b[0m \u001b[43m        \u001b[49m\u001b[43mdisable\u001b[49m\u001b[38;5;241;43m=\u001b[39;49m\u001b[43mdisable\u001b[49m\u001b[43m,\u001b[49m\n\u001b[0;32m     55\u001b[0m \u001b[43m        \u001b[49m\u001b[43menable\u001b[49m\u001b[38;5;241;43m=\u001b[39;49m\u001b[43menable\u001b[49m\u001b[43m,\u001b[49m\n\u001b[0;32m     56\u001b[0m \u001b[43m        \u001b[49m\u001b[43mexclude\u001b[49m\u001b[38;5;241;43m=\u001b[39;49m\u001b[43mexclude\u001b[49m\u001b[43m,\u001b[49m\n\u001b[0;32m     57\u001b[0m \u001b[43m        \u001b[49m\u001b[43mconfig\u001b[49m\u001b[38;5;241;43m=\u001b[39;49m\u001b[43mconfig\u001b[49m\u001b[43m,\u001b[49m\n\u001b[0;32m     58\u001b[0m \u001b[43m    \u001b[49m\u001b[43m)\u001b[49m\n",
      "File \u001b[1;32m~\\AppData\\Local\\Packages\\PythonSoftwareFoundation.Python.3.10_qbz5n2kfra8p0\\LocalCache\\local-packages\\Python310\\site-packages\\spacy\\util.py:472\u001b[0m, in \u001b[0;36mload_model\u001b[1;34m(name, vocab, disable, enable, exclude, config)\u001b[0m\n\u001b[0;32m    470\u001b[0m \u001b[38;5;28;01mif\u001b[39;00m name \u001b[38;5;129;01min\u001b[39;00m OLD_MODEL_SHORTCUTS:\n\u001b[0;32m    471\u001b[0m     \u001b[38;5;28;01mraise\u001b[39;00m \u001b[38;5;167;01mIOError\u001b[39;00m(Errors\u001b[38;5;241m.\u001b[39mE941\u001b[38;5;241m.\u001b[39mformat(name\u001b[38;5;241m=\u001b[39mname, full\u001b[38;5;241m=\u001b[39mOLD_MODEL_SHORTCUTS[name]))  \u001b[38;5;66;03m# type: ignore[index]\u001b[39;00m\n\u001b[1;32m--> 472\u001b[0m \u001b[38;5;28;01mraise\u001b[39;00m \u001b[38;5;167;01mIOError\u001b[39;00m(Errors\u001b[38;5;241m.\u001b[39mE050\u001b[38;5;241m.\u001b[39mformat(name\u001b[38;5;241m=\u001b[39mname))\n",
      "\u001b[1;31mOSError\u001b[0m: [E050] Can't find model 'en_core_web_sm'. It doesn't seem to be a Python package or a valid path to a data directory."
     ]
    }
   ],
   "source": [
    "import spacy\n",
    "\n",
    "# Load the pre-trained portuguese NER model from spaCy\n",
    "nlp = spacy.load(\"pt_core_web_sm\")\n",
    "\n",
    "# Example og:description\n",
    "og_description = 'Situada na Maia, a 20 km da Póvoa de Varzim, a Maia Centro disponibiliza um jardim e acesso Wi-Fi gratuito. Estão disponíveis opções de pequeno-almoço continentais e à carta, todas as manhãs no apartamento. Dispõe ainda de um terraço onde se encontram todas as comodidades para churrascos no local. É possível fazer passeios de bicicleta e caminhadas perto do alojamento. O Porto fica a 10 km da Maia Centro, enquanto Braga está a 39 km da propriedade. O aeroporto mais próximo é o Aeroporto Francisco Sá Carneiro, a 4 km do apartamento, que organiza um serviço de transfer do aeroporto, por um custo adicional.'\n",
    "\n",
    "# Process the description text using spaCy\n",
    "doc = nlp(og_description)\n",
    "\n",
    "# Extract entities\n",
    "entities = [(ent.text, ent.label_) for ent in doc.ents]\n",
    "\n",
    "# Filter entities related to distance\n",
    "distance_entities = [(text, label) for text, label in entities if label == 'QUANTITY']\n",
    "\n",
    "# Print the distance entities\n",
    "for entity, label in distance_entities:\n",
    "    print(label + ':', entity)\n"
   ]
  },
  {
   "cell_type": "code",
   "execution_count": null,
   "metadata": {},
   "outputs": [],
   "source": []
  }
 ],
 "metadata": {
  "kernelspec": {
   "display_name": "Python 3",
   "language": "python",
   "name": "python3"
  },
  "language_info": {
   "codemirror_mode": {
    "name": "ipython",
    "version": 3
   },
   "file_extension": ".py",
   "mimetype": "text/x-python",
   "name": "python",
   "nbconvert_exporter": "python",
   "pygments_lexer": "ipython3",
   "version": "3.10.11"
  }
 },
 "nbformat": 4,
 "nbformat_minor": 2
}
