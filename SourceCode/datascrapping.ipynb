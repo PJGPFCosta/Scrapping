{
 "cells": [
  {
   "cell_type": "markdown",
   "metadata": {},
   "source": [
    "# Data Scrapping with Python\n",
    "\n",
    "- HTML Structure: Understand the HTML structure of the website you're scraping. Use browser developer tools to inspect the elements you need to extract data from. Identify unique identifiers such as class names, IDs, or XPath expressions that can help you locate and extract the relevant information.\n",
    "- Robust Scraping Tools: Python offers several libraries for web scraping, including BeautifulSoup, Scrapy, and Selenium. Choose the one that best fits your needs based on the complexity of the website and the level of interactivity required for scraping (e.g., dynamic content loaded via JavaScript).\n",
    "- Handling Dynamic Content: Some websites use JavaScript to load content dynamically, making it challenging to scrape using traditional methods. In such cases, consider using headless browsers like Selenium or libraries that can parse JavaScript-rendered pages like Splash.\n",
    "- Data Extraction: Once you've identified the elements containing the data you need, use the scraping library to extract the information. This may involve parsing HTML, handling nested structures, and cleaning the extracted data to ensure consistency and accuracy.\n",
    "- Monitoring and Maintenance: Regularly monitor your scraping process for errors, changes in website structure, or potential violations of terms of service. Update your scraping code as needed to adapt to any changes and maintain compliance with the website's policies."
   ]
  },
  {
   "cell_type": "code",
   "execution_count": 1,
   "metadata": {},
   "outputs": [
    {
     "name": "stdout",
     "output_type": "stream",
     "text": [
      "og:title:  Maia Centro\n",
      "og:description:  Situada na Maia, a 20 km da P&oacute;voa de Varzim, a Maia Centro disponibiliza um jardim e acesso Wi-Fi gratuito.\n",
      "Est&atilde;o dispon&iacute;veis op&ccedil;&otilde;es de pequeno-almo&ccedil;o continentais e &agrave; carta, todas as manh&atilde;s no apartamento.\n",
      "Disp&otilde;e ainda de um terra&ccedil;o onde se encontram todas as comodidades para churrascos no local.\n",
      "&Eacute; poss&iacute;vel fazer passeios de bicicleta e caminhadas perto do alojamento.\n",
      "O Porto fica a 10 km da Maia Centro, enquanto Braga est&aacute; a 39 km da propriedade. O aeroporto mais pr&oacute;ximo &eacute; o Aeroporto Francisco S&aacute; Carneiro, a 4 km do apartamento, que organiza um servi&ccedil;o de transfer do aeroporto, por um custo adicional.\n",
      "og:image_links:  ['https://visitmaia.pt/assets/images/attractions/64c0e2e4d6864.png', 'https://visitmaia.pt/assets/images/attractions/64c0e2f830619.png', 'https://visitmaia.pt/assets/images/attractions/1677850811image2.jpeg', 'https://visitmaia.pt/assets/images/attractions/1677850811image3.jpg', 'https://visitmaia.pt/assets/images/attractions/64c0e314cd13a.png', 'https://visitmaia.pt/assets/images/attractions/1677850811image5.jpg', 'https://visitmaia.pt/assets/images/attractions/1677850811image6.jpg', 'https://visitmaia.pt/assets/images/attractions/1677850811image7.jpg', 'https://visitmaia.pt/assets/images/attractions/1677850811image8.jpg']\n"
     ]
    }
   ],
   "source": [
    "import requests\n",
    "from bs4 import BeautifulSoup\n",
    "\n",
    "# URL of the webpage to scrape\n",
    "url = \"https://visitmaia.pt/produtos-turisticos/maia-centro\"\n",
    "headers = {\n",
    "    \"User-Agent\": \"Mozilla/5.0 (Windows NT 10.0; Win64; x64) AppleWebKit/537.36 (KHTML, like Gecko) Chrome/58.0.3029.110 Safari/537.36\"\n",
    "}\n",
    "\n",
    "# Send a GET request to the URL\n",
    "response = requests.get(url, headers=headers)\n",
    "\n",
    "# Check if the request was successful (status code 200)\n",
    "if response.status_code == 200:\n",
    "    # Parse the HTML content of the webpage\n",
    "    soup = BeautifulSoup(response.content, \"html.parser\")\n",
    "\n",
    "    # Find meta tags with property=\"og:title\" and property=\"og:description\"\n",
    "    og_title_meta = soup.find(\"meta\", property=\"og:title\")\n",
    "    og_description_meta = soup.find(\"meta\", property=\"og:description\")\n",
    "    \n",
    "    # Find all meta tags with property=\"og:image\"\n",
    "    og_images_meta = soup.find_all(\"meta\", property=\"og:image\")\n",
    "\n",
    "    # Extract content from meta tags\n",
    "    og_title = og_title_meta[\"content\"] if og_title_meta else None\n",
    "    og_description = og_description_meta[\"content\"] if og_description_meta else None\n",
    "    \n",
    "    # Extract URLs from all meta tags with property=\"og:image\"\n",
    "    og_images = [img[\"content\"] for img in og_images_meta] if og_images_meta else None\n",
    "\n",
    "    # Find all img tags with class=\"u-back-image u-expanded\" and src starting with \"https://visitmaia.pt/assets/images/attractions/\"\n",
    "    img_tags = soup.find_all(\"img\", class_=\"u-back-image u-expanded\", src=lambda x: x.startswith(\"https://visitmaia.pt/assets/images/attractions/\"))\n",
    "    \n",
    "    # Extract the src attribute value from each img tag\n",
    "    image_links = [img[\"src\"] for img in img_tags]\n",
    "\n",
    "    image_links = og_images + image_links\n",
    "\n",
    "    print(\"og:title: \", og_title)\n",
    "    print(\"og:description: \", og_description)\n",
    "    print(\"og:image_links: \", image_links)\n",
    "\n",
    "else:\n",
    "    print(\"Failed to retrieve webpage:\", response.status_code)\n"
   ]
  },
  {
   "cell_type": "code",
   "execution_count": 2,
   "metadata": {},
   "outputs": [],
   "source": [
    "import pandas as pd\n",
    "from datetime import datetime\n",
    "\n",
    "# Create a timestamp\n",
    "timestamp = datetime.now()\n",
    "\n",
    "# Create a dictionary to store the structured data\n",
    "structured_data = {\n",
    "    \"url\": url,\n",
    "    \"title\": og_title,\n",
    "    \"description\": og_description,\n",
    "    \"image_links\": image_links,\n",
    "    \"timestamp\": timestamp\n",
    "}\n",
    "\n",
    "# Create a DataFrame from the dictionary\n",
    "df = pd.DataFrame([structured_data])\n"
   ]
  },
  {
   "cell_type": "code",
   "execution_count": 3,
   "metadata": {},
   "outputs": [
    {
     "data": {
      "text/html": [
       "<div>\n",
       "<style scoped>\n",
       "    .dataframe tbody tr th:only-of-type {\n",
       "        vertical-align: middle;\n",
       "    }\n",
       "\n",
       "    .dataframe tbody tr th {\n",
       "        vertical-align: top;\n",
       "    }\n",
       "\n",
       "    .dataframe thead th {\n",
       "        text-align: right;\n",
       "    }\n",
       "</style>\n",
       "<table border=\"1\" class=\"dataframe\">\n",
       "  <thead>\n",
       "    <tr style=\"text-align: right;\">\n",
       "      <th></th>\n",
       "      <th>url</th>\n",
       "      <th>title</th>\n",
       "      <th>description</th>\n",
       "      <th>image_links</th>\n",
       "      <th>timestamp</th>\n",
       "    </tr>\n",
       "  </thead>\n",
       "  <tbody>\n",
       "    <tr>\n",
       "      <th>0</th>\n",
       "      <td>https://visitmaia.pt/produtos-turisticos/maia-...</td>\n",
       "      <td>Maia Centro</td>\n",
       "      <td>Situada na Maia, a 20 km da P&amp;oacute;voa de Va...</td>\n",
       "      <td>[https://visitmaia.pt/assets/images/attraction...</td>\n",
       "      <td>2024-02-06 15:26:06.936534</td>\n",
       "    </tr>\n",
       "  </tbody>\n",
       "</table>\n",
       "</div>"
      ],
      "text/plain": [
       "                                                 url        title  \\\n",
       "0  https://visitmaia.pt/produtos-turisticos/maia-...  Maia Centro   \n",
       "\n",
       "                                         description  \\\n",
       "0  Situada na Maia, a 20 km da P&oacute;voa de Va...   \n",
       "\n",
       "                                         image_links  \\\n",
       "0  [https://visitmaia.pt/assets/images/attraction...   \n",
       "\n",
       "                   timestamp  \n",
       "0 2024-02-06 15:26:06.936534  "
      ]
     },
     "execution_count": 3,
     "metadata": {},
     "output_type": "execute_result"
    }
   ],
   "source": [
    "df"
   ]
  },
  {
   "cell_type": "code",
   "execution_count": 4,
   "metadata": {},
   "outputs": [],
   "source": [
    "import spacy\n",
    "\n",
    "# Load the pre-trained portuguese NER model from spaCy\n",
    "nlp = spacy.load(\"pt_core_news_sm\")\n",
    "\n",
    "# Example og:description\n",
    "og_description=df[\"description\"][0]\n",
    "# Process the description text using spaCy\n",
    "doc = nlp(og_description)\n",
    "\n",
    "# Extract entities\n",
    "entities = [(ent.text, ent.label_) for ent in doc.ents]\n",
    "\n",
    "# Filter entities related to distance\n",
    "distance_entities = [(text, label) for text, label in entities if label == 'QUANTITY']\n",
    "\n",
    "# Print the distance entities\n",
    "for entity, label in distance_entities:\n",
    "    print(label + ':', entity)\n"
   ]
  },
  {
   "cell_type": "code",
   "execution_count": 5,
   "metadata": {},
   "outputs": [
    {
     "data": {
      "text/plain": [
       "[('Maia', 'LOC'),\n",
       " ('Varzim', 'LOC'),\n",
       " ('Maia Centro', 'LOC'),\n",
       " ('Wi-Fi', 'MISC'),\n",
       " ('pequeno-almo&ccedil;o continentais', 'LOC'),\n",
       " ('manh&atilde;s', 'PER'),\n",
       " ('Disp&otilde;e', 'LOC'),\n",
       " ('Eacute', 'MISC'),\n",
       " ('Porto', 'LOC'),\n",
       " ('Maia Centro', 'LOC'),\n",
       " ('Braga', 'LOC'),\n",
       " ('Aeroporto Francisco', 'LOC'),\n",
       " ('Carneiro', 'LOC')]"
      ]
     },
     "execution_count": 5,
     "metadata": {},
     "output_type": "execute_result"
    }
   ],
   "source": [
    "entities"
   ]
  }
 ],
 "metadata": {
  "kernelspec": {
   "display_name": "Python 3",
   "language": "python",
   "name": "python3"
  },
  "language_info": {
   "codemirror_mode": {
    "name": "ipython",
    "version": 3
   },
   "file_extension": ".py",
   "mimetype": "text/x-python",
   "name": "python",
   "nbconvert_exporter": "python",
   "pygments_lexer": "ipython3",
   "version": "3.10.11"
  }
 },
 "nbformat": 4,
 "nbformat_minor": 2
}
