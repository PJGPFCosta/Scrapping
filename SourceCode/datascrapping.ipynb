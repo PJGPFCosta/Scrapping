{
 "cells": [
  {
   "cell_type": "markdown",
   "metadata": {},
   "source": [
    "# Data Scrapping with Python\n",
    "\n",
    "- HTML Structure: Understand the HTML structure of the website you're scraping. Use browser developer tools to inspect the elements you need to extract data from. Identify unique identifiers such as class names, IDs, or XPath expressions that can help you locate and extract the relevant information.\n",
    "- Robust Scraping Tools: Python offers several libraries for web scraping, including BeautifulSoup, Scrapy, and Selenium. Choose the one that best fits your needs based on the complexity of the website and the level of interactivity required for scraping (e.g., dynamic content loaded via JavaScript).\n",
    "- Handling Dynamic Content: Some websites use JavaScript to load content dynamically, making it challenging to scrape using traditional methods. In such cases, consider using headless browsers like Selenium or libraries that can parse JavaScript-rendered pages like Splash.\n",
    "- Data Extraction: Once you've identified the elements containing the data you need, use the scraping library to extract the information. This may involve parsing HTML, handling nested structures, and cleaning the extracted data to ensure consistency and accuracy.\n",
    "- Monitoring and Maintenance: Regularly monitor your scraping process for errors, changes in website structure, or potential violations of terms of service. Update your scraping code as needed to adapt to any changes and maintain compliance with the website's policies."
   ]
  },
  {
   "cell_type": "code",
   "execution_count": 29,
   "metadata": {},
   "outputs": [
    {
     "name": "stdout",
     "output_type": "stream",
     "text": [
      "og:title: Maia Centro\n",
      "og:description: Situada na Maia, a 20 km da P&oacute;voa de Varzim, a Maia Centro disponibiliza um jardim e acesso Wi-Fi gratuito.\n",
      "Est&atilde;o dispon&iacute;veis op&ccedil;&otilde;es de pequeno-almo&ccedil;o continentais e &agrave; carta, todas as manh&atilde;s no apartamento.\n",
      "Disp&otilde;e ainda de um terra&ccedil;o onde se encontram todas as comodidades para churrascos no local.\n",
      "&Eacute; poss&iacute;vel fazer passeios de bicicleta e caminhadas perto do alojamento.\n",
      "O Porto fica a 10 km da Maia Centro, enquanto Braga est&aacute; a 39 km da propriedade. O aeroporto mais pr&oacute;ximo &eacute; o Aeroporto Francisco S&aacute; Carneiro, a 4 km do apartamento, que organiza um servi&ccedil;o de transfer do aeroporto, por um custo adicional.\n",
      "og:images: ['https://visitmaia.pt/assets/images/attractions/64c0e2e4d6864.png']\n"
     ]
    }
   ],
   "source": [
    "import requests\n",
    "from bs4 import BeautifulSoup\n",
    "\n",
    "# URL of the webpage to scrape\n",
    "url = \"https://visitmaia.pt/produtos-turisticos/maia-centro\"\n",
    "headers = {\n",
    "    \"User-Agent\": \"Mozilla/5.0 (Windows NT 10.0; Win64; x64) AppleWebKit/537.36 (KHTML, like Gecko) Chrome/58.0.3029.110 Safari/537.36\"\n",
    "}\n",
    "\n",
    "# Send a GET request to the URL\n",
    "response = requests.get(url, headers=headers)\n",
    "\n",
    "# Check if the request was successful (status code 200)\n",
    "if response.status_code == 200:\n",
    "    # Parse the HTML content of the webpage\n",
    "    soup = BeautifulSoup(response.content, \"html.parser\")\n",
    "\n",
    "    # Find meta tags with property=\"og:title\" and property=\"og:description\"\n",
    "    og_title_meta = soup.find(\"meta\", property=\"og:title\")\n",
    "    og_description_meta = soup.find(\"meta\", property=\"og:description\")\n",
    "    \n",
    "    # Find all meta tags with property=\"og:image\"\n",
    "    og_images_meta = soup.find_all(\"meta\", property=\"og:image\")\n",
    "\n",
    "    # Extract content from meta tags\n",
    "    og_title = og_title_meta[\"content\"] if og_title_meta else None\n",
    "    og_description = og_description_meta[\"content\"] if og_description_meta else None\n",
    "    \n",
    "    # Extract URLs from all meta tags with property=\"og:image\"\n",
    "    og_images = [img[\"content\"] for img in og_images_meta] if og_images_meta else []\n",
    "\n",
    "    print(\"og:title:\", og_title)\n",
    "    print(\"og:description:\", og_description)\n",
    "    print(\"og:images:\", og_images)\n",
    "\n",
    "else:\n",
    "    print(\"Failed to retrieve webpage:\", response.status_code)\n"
   ]
  },
  {
   "cell_type": "code",
   "execution_count": 30,
   "metadata": {},
   "outputs": [
    {
     "data": {
      "text/plain": [
       "[<meta content=\"https://visitmaia.pt/assets/images/attractions/64c0e2e4d6864.png\" property=\"og:image\"/>]"
      ]
     },
     "execution_count": 30,
     "metadata": {},
     "output_type": "execute_result"
    }
   ],
   "source": [
    "og_images_meta = soup.find_all(\"meta\", property=\"og:image\")\n",
    "og_images_meta\n"
   ]
  },
  {
   "cell_type": "code",
   "execution_count": null,
   "metadata": {},
   "outputs": [],
   "source": []
  }
 ],
 "metadata": {
  "kernelspec": {
   "display_name": "Python 3",
   "language": "python",
   "name": "python3"
  },
  "language_info": {
   "codemirror_mode": {
    "name": "ipython",
    "version": 3
   },
   "file_extension": ".py",
   "mimetype": "text/x-python",
   "name": "python",
   "nbconvert_exporter": "python",
   "pygments_lexer": "ipython3",
   "version": "3.10.11"
  }
 },
 "nbformat": 4,
 "nbformat_minor": 2
}
